{
 "cells": [
  {
   "cell_type": "markdown",
   "id": "12a82045",
   "metadata": {},
   "source": [
    "Prepare ratings_table\n",
    "+ (~~) Clean the input data layers feeding into the df_merge.csv to ensure the data is formatted properly (~~)\n",
    "+ Organise the code (nothing dramatic)\n",
    "+ (~~) Add a column for handpicken_status and for user_ratings (~~)\n",
    "+ Select a weighting system, and standardize the different features/ratings/rankings, validate the results\n",
    "+ Creating a function for adding a new song to the dataset\n",
    "+ Add a field for description to the table.\n",
    "+ Finalize Phase I table after adding all handpicken titles till did.\n",
    "\n",
    "\n",
    "Prepare individual songs page\n",
    "+ Study on the mechanism for populating data - how to generate dynamic pages from db\n",
    "+ Create the front end\n",
    "+ Create a postgres table for ratings_table\n",
    "+ Pull in the data to a page\n",
    "\n",
    "\n",
    "Create Login Portal and Rating System (with SM/Google Authenticator)\n",
    "+ Create front-end mechanism for ratings\n",
    "+ Study the most efficient and free-of-cost login system (must be AWS-friendly) - have user page, user history (ratings)\n",
    "** Functionality for 'Rate' button: Click 'Rate' > Login (if not logged in) > Song-Search > Song Page > Rate\n",
    "\n",
    "\n",
    "\n",
    "Connect with Third Party Comments Tool (with SM/Google Authenticator)\n",
    "+ Study best free-of-cost comments tool with social media integation\n",
    "+ White-label to match website look and feel\n",
    "\n",
    "\n",
    "Create 'Song Seach' on Rate Page\n",
    "\n",
    "\n",
    "Make Efficient / QA\n",
    "\n",
    "Deploy on AWS\n",
    "\n",
    "\n",
    "\n",
    "\n",
    "\n",
    "\n",
    "\n"
   ]
  },
  {
   "cell_type": "code",
   "execution_count": null,
   "id": "d6c91e24",
   "metadata": {
    "vscode": {
     "languageId": "plaintext"
    }
   },
   "outputs": [],
   "source": []
  }
 ],
 "metadata": {
  "kernelspec": {
   "display_name": "Python 3 (ipykernel)",
   "language": "python",
   "name": "python3"
  },
  "language_info": {
   "codemirror_mode": {
    "name": "ipython",
    "version": 3
   },
   "file_extension": ".py",
   "mimetype": "text/x-python",
   "name": "python",
   "nbconvert_exporter": "python",
   "pygments_lexer": "ipython3",
   "version": "3.12.5"
  }
 },
 "nbformat": 4,
 "nbformat_minor": 5
}
